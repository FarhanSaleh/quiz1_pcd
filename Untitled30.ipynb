{
  "cells": [
    {
      "cell_type": "code",
      "execution_count": 29,
      "metadata": {
        "id": "7ksdObMMjTW5"
      },
      "outputs": [],
      "source": [
        "import cv2\n",
        "import numpy as np"
      ]
    },
    {
      "cell_type": "code",
      "execution_count": 30,
      "metadata": {},
      "outputs": [],
      "source": [
        "image = cv2.imread('avatar-the-last-airbender-3.png')"
      ]
    },
    {
      "cell_type": "code",
      "execution_count": 31,
      "metadata": {
        "id": "tL0_whGrjiio"
      },
      "outputs": [],
      "source": [
        "# Grayscale gambar\n",
        "grayscale_image = cv2.cvtColor(image, cv2.COLOR_BGR2GRAY)\n",
        "cv2.imshow(\"grayscale\",grayscale_image)\n",
        "cv2.waitKey(0)\n",
        "cv2.destroyAllWindows()"
      ]
    },
    {
      "cell_type": "code",
      "execution_count": 32,
      "metadata": {
        "colab": {
          "base_uri": "https://localhost:8080/"
        },
        "id": "0_vslMHnkHwh",
        "outputId": "50066a3a-0e4b-4986-e27c-66dbafe8690f"
      },
      "outputs": [
        {
          "name": "stdout",
          "output_type": "stream",
          "text": [
            "Tinggi gambar  392\n",
            "Lebar gambar 700\n"
          ]
        }
      ],
      "source": [
        "# lebah dan tinggi gambar\n",
        "height, width, _ = image.shape\n",
        "\n",
        "print(\"Tinggi gambar \",height)\n",
        "print(\"Lebar gambar\", width)"
      ]
    },
    {
      "cell_type": "code",
      "execution_count": 33,
      "metadata": {
        "id": "m_RvlVpnkwmO"
      },
      "outputs": [
        {
          "name": "stdout",
          "output_type": "stream",
          "text": [
            "Nilai Minimum: 0.0\n",
            "Nilai Maksimum: 255.0\n"
          ]
        }
      ],
      "source": [
        "# maks dan min pixel\n",
        "min_val, max_val, min_loc, max_loc = cv2.minMaxLoc(grayscale_image)\n",
        "\n",
        "print(\"Nilai Minimum:\", min_val)\n",
        "print(\"Nilai Maksimum:\", max_val)"
      ]
    },
    {
      "cell_type": "code",
      "execution_count": 34,
      "metadata": {},
      "outputs": [],
      "source": [
        "# normalisasi gambar\n",
        "image_float = image.astype(float)\n",
        "normalized_image = image_float / 255.0"
      ]
    },
    {
      "cell_type": "code",
      "execution_count": 35,
      "metadata": {},
      "outputs": [],
      "source": [
        "cv2.imshow(\"Normalisasi\", normalized_image)\n",
        "cv2.waitKey(0)\n",
        "cv2.destroyAllWindows()"
      ]
    },
    {
      "cell_type": "code",
      "execution_count": 36,
      "metadata": {},
      "outputs": [],
      "source": [
        "# flip image\n",
        "flip_horizontal = cv2.flip(image, 1)\n",
        "flip_vertical = cv2.flip(image, 0)"
      ]
    },
    {
      "cell_type": "code",
      "execution_count": 37,
      "metadata": {},
      "outputs": [],
      "source": [
        "cv2.imshow('Original Image', image)\n",
        "# cv2.imshow('Horizontal Flip', flip_horizontal)\n",
        "# cv2.imshow('Vertical Flip', flip_vertical)\n",
        "cv2.waitKey(0)\n",
        "cv2.destroyAllWindows()"
      ]
    },
    {
      "cell_type": "code",
      "execution_count": 48,
      "metadata": {},
      "outputs": [],
      "source": [
        "# tambah noise\n",
        "mean = 0\n",
        "stddev = 50\n",
        "gaussian_noise = np.random.normal(mean, stddev, image.shape).astype(np.uint8)\n",
        "noisy_image_gaussian = cv2.add(image, gaussian_noise)\n",
        "\n",
        "cv2.imshow('Original Image', noisy_image_gaussian)\n",
        "\n",
        "cv2.waitKey(0)\n",
        "cv2.destroyAllWindows()"
      ]
    },
    {
      "cell_type": "code",
      "execution_count": 39,
      "metadata": {},
      "outputs": [],
      "source": [
        "# crop image\n",
        "# random crop\n",
        "height, width, _ = image.shape\n",
        "crop_size = 250\n",
        "\n",
        "x = np.random.randint(0, width - crop_size)\n",
        "y = np.random.randint(0, height - crop_size)\n",
        "\n",
        "random_crop = image[y:y+crop_size, x:x+crop_size]"
      ]
    },
    {
      "cell_type": "code",
      "execution_count": 40,
      "metadata": {},
      "outputs": [],
      "source": [
        "center_x = width // 2\n",
        "center_y = height // 2\n",
        "\n",
        "half_crop_size = crop_size // 2\n",
        "\n",
        "center_crop = image[center_y-half_crop_size:center_y+half_crop_size, center_x-half_crop_size:center_x+half_crop_size]"
      ]
    },
    {
      "cell_type": "code",
      "execution_count": 44,
      "metadata": {},
      "outputs": [],
      "source": [
        "cv2.imshow('Original Image', center_crop)\n",
        "\n",
        "cv2.waitKey(0)\n",
        "cv2.destroyAllWindows()"
      ]
    }
  ],
  "metadata": {
    "colab": {
      "provenance": []
    },
    "kernelspec": {
      "display_name": "Python 3",
      "name": "python3"
    },
    "language_info": {
      "codemirror_mode": {
        "name": "ipython",
        "version": 3
      },
      "file_extension": ".py",
      "mimetype": "text/x-python",
      "name": "python",
      "nbconvert_exporter": "python",
      "pygments_lexer": "ipython3",
      "version": "3.11.5"
    }
  },
  "nbformat": 4,
  "nbformat_minor": 0
}
